{
 "cells": [
  {
   "cell_type": "markdown",
   "metadata": {},
   "source": [
    "# Berufsrisiko Corona\n",
    "\n",
    "### Analyse des Ansteckungsrisiko nach Geschlecht und Einkommen"
   ]
  },
  {
   "cell_type": "code",
   "execution_count": 344,
   "metadata": {},
   "outputs": [],
   "source": [
    "# import libraries\n",
    "import pandas as pd\n",
    "import numpy as np\n",
    "import matplotlib.pyplot as plt\n",
    "\n",
    "# settings\n",
    "pd.set_option('display.max_columns', None)\n",
    "pd.set_option('display.max_rows', None)"
   ]
  },
  {
   "cell_type": "markdown",
   "metadata": {},
   "source": [
    "---"
   ]
  },
  {
   "cell_type": "markdown",
   "metadata": {},
   "source": [
    "### Daten einlesen und bereinigen"
   ]
  },
  {
   "cell_type": "code",
   "execution_count": 550,
   "metadata": {},
   "outputs": [],
   "source": [
    "# import data\n",
    "soc10_isco08 = pd.read_stata(\"input/onetsoc_to_isco_cws_ibs/soc10_isco08.dta\")\n",
    "exposure = pd.read_csv(\"input/Exposed_to_Disease_or_Infections.csv\")\n",
    "proximity = pd.read_csv(\"input/Physical_Proximity.csv\")\n",
    "salary = pd.read_excel(\"input/je-d-03.04.01.02.47.xlsx\", skiprows=5)\n",
    "gender = pd.read_excel(\"input/su-d-40.02.03.02.01.03.10.xlsx\", sheet_name=\"2018\", skiprows=5)"
   ]
  },
  {
   "cell_type": "code",
   "execution_count": 551,
   "metadata": {},
   "outputs": [],
   "source": [
    "# rename columns and drop unused data\n",
    "salary.columns = ['ISCO', 'Beruf', 'Unnamed: 2', 'Alle-Total', 'Alle-Frauen', 'Alle-Männer',\n",
    "       'bis29-Total', 'bis29-Frauen', 'bis29-Männer', '30-49-Total', '30-49-Frauen',\n",
    "       '30-49-Männer', 'ab50-Total', 'ab50-Frauen', 'ab50-Männer']\n",
    "salary = salary.iloc[2:49,:]\n",
    "salary = salary.drop(columns=[\"Unnamed: 2\"])\n",
    "\n",
    "gender.columns = ['Berufshauptgruppe', 'Berufsgruppe', 'Berufsuntergruppe',\n",
    "                  'Berufsgattung', 'Berufsart', 'Bezeichnung', 'Total (in T)', 'Männer (in T)',\n",
    "                  'Frauen (in T)', 'Schweizer (in T)', 'Ausländer (in T)']\n",
    "gender = gender.iloc[:1484,:]"
   ]
  },
  {
   "cell_type": "code",
   "execution_count": 553,
   "metadata": {},
   "outputs": [],
   "source": [
    "# Limit to Berufsgattung (ISCO lvl4)\n",
    "gender = gender[~pd.isnull(gender.Berufsgattung )].drop(columns=[\"Berufshauptgruppe\", \"Berufsgruppe\", \"Berufsuntergruppe\", \"Berufsart\"])\n",
    "# Keep only subcategories\n",
    "salary = salary[salary.ISCO.str.len() == 2]"
   ]
  },
  {
   "cell_type": "code",
   "execution_count": 554,
   "metadata": {},
   "outputs": [],
   "source": [
    "# define NAs and change type of variable\n",
    "gender = gender.replace('X', np.nan)\n",
    "gender.Berufsgattung = gender.Berufsgattung.astype(float)\n",
    "exposure['Context'] = exposure['Context'].replace(\"Not available\", np.nan).astype('float')"
   ]
  },
  {
   "cell_type": "code",
   "execution_count": 555,
   "metadata": {},
   "outputs": [],
   "source": [
    "# calculate share of women and share of foreigners per job\n",
    "gender['Frauenanteil'] = 100 - (100 / gender['Total (in T)'] * gender['Männer (in T)'])\n",
    "for index, job in gender[pd.isnull(gender['Frauenanteil'])].iterrows():\n",
    "    gender.loc[index,'Frauenanteil'] = 100 / job['Total (in T)'] * job['Frauen (in T)']\n",
    "gender['Auslaenderanteil'] = 100 - (100 / gender['Total (in T)'] * gender['Schweizer (in T)'])\n",
    "gender = gender.drop(columns=['Männer (in T)', 'Frauen (in T)', 'Schweizer (in T)', 'Ausländer (in T)'])"
   ]
  },
  {
   "cell_type": "markdown",
   "metadata": {},
   "source": [
    "---"
   ]
  },
  {
   "cell_type": "markdown",
   "metadata": {},
   "source": [
    "## Frauenanteile"
   ]
  },
  {
   "cell_type": "markdown",
   "metadata": {},
   "source": [
    "### Übersetze von SOC- zu ISCO-Kodierung und fassen neue Daten in DataFrame `data` zusammen"
   ]
  },
  {
   "cell_type": "code",
   "execution_count": 556,
   "metadata": {},
   "outputs": [],
   "source": [
    "# clean SOC\n",
    "exposure['soc'] = exposure.Code.apply(lambda x: x[:-3].replace(\"-\",\"\"))\n",
    "proximity['soc'] = proximity.Code.apply(lambda x: x[:-3].replace(\"-\",\"\"))"
   ]
  },
  {
   "cell_type": "code",
   "execution_count": 557,
   "metadata": {},
   "outputs": [],
   "source": [
    "# create function to match SOC to ISCO\n",
    "def soc_to_isco(soc):\n",
    "    if len(soc10_isco08.loc[soc10_isco08.soc10 == int(soc), \"isco08\"]) > 0:\n",
    "        return soc10_isco08.loc[soc10_isco08.soc10 == int(soc), \"isco08\"].values[0]\n",
    "    else:\n",
    "        return np.nan"
   ]
  },
  {
   "cell_type": "code",
   "execution_count": 558,
   "metadata": {},
   "outputs": [],
   "source": [
    "# apply soc_to_isco()\n",
    "exposure['isco08'] = exposure['soc'].apply(soc_to_isco)\n",
    "proximity['isco08'] = proximity['soc'].apply(soc_to_isco)"
   ]
  },
  {
   "cell_type": "code",
   "execution_count": 561,
   "metadata": {},
   "outputs": [],
   "source": [
    "# create new dataframe, match (average of) exposure- and proximity-values and calculate exp_prox (Ansteckungsrisiko)\n",
    "data = gender.copy()\n",
    "for index, job in data.iterrows():\n",
    "    data.loc[index, \"Exposure\"] = exposure[exposure.isco08 == job[\"Berufsgattung\"]][\"Context\"].mean()\n",
    "    data.loc[index, \"Proximity\"] = proximity[proximity.isco08 == job[\"Berufsgattung\"]][\"Context\"].mean()\n",
    "data['Exp_Prox'] = (data['Exposure'] + data['Proximity'])/2"
   ]
  },
  {
   "cell_type": "markdown",
   "metadata": {},
   "source": [
    "---"
   ]
  },
  {
   "cell_type": "markdown",
   "metadata": {},
   "source": [
    "### `data` überprüfen und bereinigen"
   ]
  },
  {
   "cell_type": "code",
   "execution_count": 562,
   "metadata": {},
   "outputs": [],
   "source": [
    "# extract ISCO Berufsgruppencode\n",
    "data[\"ISCO_kurz\"] = data.Berufsgattung.astype(\"str\").apply(lambda x: x[:-4] if len(x) == 6 else \"0\"+x[:-4])"
   ]
  },
  {
   "cell_type": "code",
   "execution_count": 563,
   "metadata": {},
   "outputs": [
    {
     "data": {
      "text/plain": [
       "4357.6137996248835"
      ]
     },
     "execution_count": 563,
     "metadata": {},
     "output_type": "execute_result"
    }
   ],
   "source": [
    "# n of Total earners\n",
    "data[\"Total (in T)\"].sum()"
   ]
  },
  {
   "cell_type": "code",
   "execution_count": 564,
   "metadata": {},
   "outputs": [
    {
     "data": {
      "text/plain": [
       "3543.9037344465296"
      ]
     },
     "execution_count": 564,
     "metadata": {},
     "output_type": "execute_result"
    }
   ],
   "source": [
    "# n of earners with exposure-values\n",
    "data[~pd.isnull(data.Exposure)][\"Total (in T)\"].sum()"
   ]
  },
  {
   "cell_type": "code",
   "execution_count": 646,
   "metadata": {},
   "outputs": [],
   "source": [
    "## limit data to jobs which have a number of earners assigned to it\n",
    "data = data[~pd.isnull(data['Total (in T)'])]"
   ]
  },
  {
   "cell_type": "code",
   "execution_count": 567,
   "metadata": {},
   "outputs": [],
   "source": [
    "# flag data which has exp_prox-values assigned\n",
    "data['Orig_Source'] = 1\n",
    "data.loc[pd.isnull(data['Exp_Prox']),'Orig_Source'] = 0"
   ]
  },
  {
   "cell_type": "code",
   "execution_count": 569,
   "metadata": {},
   "outputs": [],
   "source": [
    "# for all the others: calculate proximity, exposure und exp_prox based on related jobs\n",
    "for index, job in data[data.Orig_Source == 0].iterrows():\n",
    "    proximity_value = data[(data.ISCO_kurz == job['ISCO_kurz']) & (data.Orig_Source == 1)].Proximity.mean()\n",
    "    exposure_value = data[(data.ISCO_kurz == job['ISCO_kurz']) & (data.Orig_Source == 1)].Exposure.mean()\n",
    "    exp_prox_value = data[(data.ISCO_kurz == job['ISCO_kurz']) & (data.Orig_Source == 1)].Exp_Prox.mean()\n",
    "    data.loc[index, \"Proximity\"] = proximity_value\n",
    "    data.loc[index, \"Exposure\"] = exposure_value\n",
    "    data.loc[index, \"Exp_Prox\"] = exp_prox_value"
   ]
  },
  {
   "cell_type": "code",
   "execution_count": 630,
   "metadata": {},
   "outputs": [
    {
     "data": {
      "text/plain": [
       "4077.635430287547"
      ]
     },
     "execution_count": 630,
     "metadata": {},
     "output_type": "execute_result"
    }
   ],
   "source": [
    "# again: n of earners with exposure-values\n",
    "data[~pd.isnull(data['Exp_Prox'])][\"Total (in T)\"].sum()"
   ]
  },
  {
   "cell_type": "markdown",
   "metadata": {},
   "source": [
    "---"
   ]
  },
  {
   "cell_type": "markdown",
   "metadata": {},
   "source": [
    "### Korrelationen berechnen und Verteilung der Werte anschauen "
   ]
  },
  {
   "cell_type": "code",
   "execution_count": 570,
   "metadata": {},
   "outputs": [
    {
     "data": {
      "text/html": [
       "<div>\n",
       "<style scoped>\n",
       "    .dataframe tbody tr th:only-of-type {\n",
       "        vertical-align: middle;\n",
       "    }\n",
       "\n",
       "    .dataframe tbody tr th {\n",
       "        vertical-align: top;\n",
       "    }\n",
       "\n",
       "    .dataframe thead th {\n",
       "        text-align: right;\n",
       "    }\n",
       "</style>\n",
       "<table border=\"1\" class=\"dataframe\">\n",
       "  <thead>\n",
       "    <tr style=\"text-align: right;\">\n",
       "      <th></th>\n",
       "      <th>Frauenanteil</th>\n",
       "      <th>Exp_Prox</th>\n",
       "    </tr>\n",
       "  </thead>\n",
       "  <tbody>\n",
       "    <tr>\n",
       "      <th>Frauenanteil</th>\n",
       "      <td>1.000000</td>\n",
       "      <td>0.409801</td>\n",
       "    </tr>\n",
       "    <tr>\n",
       "      <th>Exp_Prox</th>\n",
       "      <td>0.409801</td>\n",
       "      <td>1.000000</td>\n",
       "    </tr>\n",
       "  </tbody>\n",
       "</table>\n",
       "</div>"
      ],
      "text/plain": [
       "              Frauenanteil  Exp_Prox\n",
       "Frauenanteil      1.000000  0.409801\n",
       "Exp_Prox          0.409801  1.000000"
      ]
     },
     "execution_count": 570,
     "metadata": {},
     "output_type": "execute_result"
    }
   ],
   "source": [
    "# calc correlation between 'Frauenanteil' and 'Exp_Prox'\n",
    "data[['Frauenanteil', 'Exp_Prox']].corr()"
   ]
  },
  {
   "cell_type": "code",
   "execution_count": 572,
   "metadata": {},
   "outputs": [
    {
     "data": {
      "text/plain": [
       "[<matplotlib.lines.Line2D at 0x12a3cf950>]"
      ]
     },
     "execution_count": 572,
     "metadata": {},
     "output_type": "execute_result"
    },
    {
     "data": {
      "image/png": "[encoded data removed]",
      "text/plain": [
       "<Figure size 1080x576 with 1 Axes>"
      ]
     },
     "metadata": {
      "needs_background": "light"
     },
     "output_type": "display_data"
    }
   ],
   "source": [
    "# quick look at data\n",
    "plt.figure(figsize=(15,8))\n",
    "plt.plot(data['Frauenanteil'], data['Exp_Prox'], 'o')"
   ]
  },
  {
   "cell_type": "code",
   "execution_count": 573,
   "metadata": {},
   "outputs": [
    {
     "data": {
      "text/html": [
       "<div>\n",
       "<style scoped>\n",
       "    .dataframe tbody tr th:only-of-type {\n",
       "        vertical-align: middle;\n",
       "    }\n",
       "\n",
       "    .dataframe tbody tr th {\n",
       "        vertical-align: top;\n",
       "    }\n",
       "\n",
       "    .dataframe thead th {\n",
       "        text-align: right;\n",
       "    }\n",
       "</style>\n",
       "<table border=\"1\" class=\"dataframe\">\n",
       "  <thead>\n",
       "    <tr style=\"text-align: right;\">\n",
       "      <th></th>\n",
       "      <th>Frauenanteil</th>\n",
       "      <th>Exposure</th>\n",
       "    </tr>\n",
       "  </thead>\n",
       "  <tbody>\n",
       "    <tr>\n",
       "      <th>Frauenanteil</th>\n",
       "      <td>1.000000</td>\n",
       "      <td>0.439893</td>\n",
       "    </tr>\n",
       "    <tr>\n",
       "      <th>Exposure</th>\n",
       "      <td>0.439893</td>\n",
       "      <td>1.000000</td>\n",
       "    </tr>\n",
       "  </tbody>\n",
       "</table>\n",
       "</div>"
      ],
      "text/plain": [
       "              Frauenanteil  Exposure\n",
       "Frauenanteil      1.000000  0.439893\n",
       "Exposure          0.439893  1.000000"
      ]
     },
     "execution_count": 573,
     "metadata": {},
     "output_type": "execute_result"
    }
   ],
   "source": [
    "# calc correlation between 'Frauenanteil' and 'Exposure'\n",
    "data[['Frauenanteil', 'Exposure']].corr()"
   ]
  },
  {
   "cell_type": "code",
   "execution_count": 575,
   "metadata": {},
   "outputs": [
    {
     "data": {
      "text/plain": [
       "[<matplotlib.lines.Line2D at 0x12b773290>]"
      ]
     },
     "execution_count": 575,
     "metadata": {},
     "output_type": "execute_result"
    },
    {
     "data": {
      "image/png": "[encoded data removed]",
      "text/plain": [
       "<Figure size 1080x576 with 1 Axes>"
      ]
     },
     "metadata": {
      "needs_background": "light"
     },
     "output_type": "display_data"
    }
   ],
   "source": [
    "# Another quick look at the data\n",
    "plt.figure(figsize=(15,8))\n",
    "plt.plot(data['Frauenanteil'], data['Exposure'], 'o')"
   ]
  },
  {
   "cell_type": "code",
   "execution_count": 576,
   "metadata": {},
   "outputs": [
    {
     "data": {
      "text/html": [
       "<div>\n",
       "<style scoped>\n",
       "    .dataframe tbody tr th:only-of-type {\n",
       "        vertical-align: middle;\n",
       "    }\n",
       "\n",
       "    .dataframe tbody tr th {\n",
       "        vertical-align: top;\n",
       "    }\n",
       "\n",
       "    .dataframe thead th {\n",
       "        text-align: right;\n",
       "    }\n",
       "</style>\n",
       "<table border=\"1\" class=\"dataframe\">\n",
       "  <thead>\n",
       "    <tr style=\"text-align: right;\">\n",
       "      <th></th>\n",
       "      <th>Frauenanteil</th>\n",
       "      <th>Proximity</th>\n",
       "    </tr>\n",
       "  </thead>\n",
       "  <tbody>\n",
       "    <tr>\n",
       "      <th>Frauenanteil</th>\n",
       "      <td>1.000000</td>\n",
       "      <td>0.258492</td>\n",
       "    </tr>\n",
       "    <tr>\n",
       "      <th>Proximity</th>\n",
       "      <td>0.258492</td>\n",
       "      <td>1.000000</td>\n",
       "    </tr>\n",
       "  </tbody>\n",
       "</table>\n",
       "</div>"
      ],
      "text/plain": [
       "              Frauenanteil  Proximity\n",
       "Frauenanteil      1.000000   0.258492\n",
       "Proximity         0.258492   1.000000"
      ]
     },
     "execution_count": 576,
     "metadata": {},
     "output_type": "execute_result"
    }
   ],
   "source": [
    "# calc correlation between 'Frauenanteil' and 'Proximity'\n",
    "data[['Frauenanteil', 'Proximity']].corr()"
   ]
  },
  {
   "cell_type": "code",
   "execution_count": 578,
   "metadata": {},
   "outputs": [
    {
     "data": {
      "text/plain": [
       "[<matplotlib.lines.Line2D at 0x12b38c4d0>]"
      ]
     },
     "execution_count": 578,
     "metadata": {},
     "output_type": "execute_result"
    },
    {
     "data": {
      "image/png": "[encoded data removed]",
      "text/plain": [
       "<Figure size 1080x576 with 1 Axes>"
      ]
     },
     "metadata": {
      "needs_background": "light"
     },
     "output_type": "display_data"
    }
   ],
   "source": [
    "# look at distribution\n",
    "plt.figure(figsize=(15,8))\n",
    "plt.plot(data['Frauenanteil'], data['Proximity'], 'o')"
   ]
  },
  {
   "cell_type": "code",
   "execution_count": 579,
   "metadata": {},
   "outputs": [
    {
     "data": {
      "text/html": [
       "<div>\n",
       "<style scoped>\n",
       "    .dataframe tbody tr th:only-of-type {\n",
       "        vertical-align: middle;\n",
       "    }\n",
       "\n",
       "    .dataframe tbody tr th {\n",
       "        vertical-align: top;\n",
       "    }\n",
       "\n",
       "    .dataframe thead th {\n",
       "        text-align: right;\n",
       "    }\n",
       "</style>\n",
       "<table border=\"1\" class=\"dataframe\">\n",
       "  <thead>\n",
       "    <tr style=\"text-align: right;\">\n",
       "      <th></th>\n",
       "      <th>Auslaenderanteil</th>\n",
       "      <th>Exp_Prox</th>\n",
       "    </tr>\n",
       "  </thead>\n",
       "  <tbody>\n",
       "    <tr>\n",
       "      <th>Auslaenderanteil</th>\n",
       "      <td>1.000000</td>\n",
       "      <td>-0.090681</td>\n",
       "    </tr>\n",
       "    <tr>\n",
       "      <th>Exp_Prox</th>\n",
       "      <td>-0.090681</td>\n",
       "      <td>1.000000</td>\n",
       "    </tr>\n",
       "  </tbody>\n",
       "</table>\n",
       "</div>"
      ],
      "text/plain": [
       "                  Auslaenderanteil  Exp_Prox\n",
       "Auslaenderanteil          1.000000 -0.090681\n",
       "Exp_Prox                 -0.090681  1.000000"
      ]
     },
     "execution_count": 579,
     "metadata": {},
     "output_type": "execute_result"
    }
   ],
   "source": [
    "# calc correlation between 'Auslaenderanteil' and 'Exp_Prox'\n",
    "data[['Auslaenderanteil', 'Exp_Prox']].corr()"
   ]
  },
  {
   "cell_type": "code",
   "execution_count": 581,
   "metadata": {},
   "outputs": [
    {
     "data": {
      "text/html": [
       "<div>\n",
       "<style scoped>\n",
       "    .dataframe tbody tr th:only-of-type {\n",
       "        vertical-align: middle;\n",
       "    }\n",
       "\n",
       "    .dataframe tbody tr th {\n",
       "        vertical-align: top;\n",
       "    }\n",
       "\n",
       "    .dataframe thead th {\n",
       "        text-align: right;\n",
       "    }\n",
       "</style>\n",
       "<table border=\"1\" class=\"dataframe\">\n",
       "  <thead>\n",
       "    <tr style=\"text-align: right;\">\n",
       "      <th></th>\n",
       "      <th>Auslaenderanteil</th>\n",
       "      <th>Exposure</th>\n",
       "    </tr>\n",
       "  </thead>\n",
       "  <tbody>\n",
       "    <tr>\n",
       "      <th>Auslaenderanteil</th>\n",
       "      <td>1.00000</td>\n",
       "      <td>-0.14337</td>\n",
       "    </tr>\n",
       "    <tr>\n",
       "      <th>Exposure</th>\n",
       "      <td>-0.14337</td>\n",
       "      <td>1.00000</td>\n",
       "    </tr>\n",
       "  </tbody>\n",
       "</table>\n",
       "</div>"
      ],
      "text/plain": [
       "                  Auslaenderanteil  Exposure\n",
       "Auslaenderanteil           1.00000  -0.14337\n",
       "Exposure                  -0.14337   1.00000"
      ]
     },
     "execution_count": 581,
     "metadata": {},
     "output_type": "execute_result"
    }
   ],
   "source": [
    "# calc correlation between 'Auslaenderanteil' and 'Exposure'\n",
    "data[['Auslaenderanteil', 'Exposure']].corr()"
   ]
  },
  {
   "cell_type": "code",
   "execution_count": 582,
   "metadata": {},
   "outputs": [
    {
     "data": {
      "text/html": [
       "<div>\n",
       "<style scoped>\n",
       "    .dataframe tbody tr th:only-of-type {\n",
       "        vertical-align: middle;\n",
       "    }\n",
       "\n",
       "    .dataframe tbody tr th {\n",
       "        vertical-align: top;\n",
       "    }\n",
       "\n",
       "    .dataframe thead th {\n",
       "        text-align: right;\n",
       "    }\n",
       "</style>\n",
       "<table border=\"1\" class=\"dataframe\">\n",
       "  <thead>\n",
       "    <tr style=\"text-align: right;\">\n",
       "      <th></th>\n",
       "      <th>Auslaenderanteil</th>\n",
       "      <th>Proximity</th>\n",
       "    </tr>\n",
       "  </thead>\n",
       "  <tbody>\n",
       "    <tr>\n",
       "      <th>Auslaenderanteil</th>\n",
       "      <td>1.000000</td>\n",
       "      <td>0.012957</td>\n",
       "    </tr>\n",
       "    <tr>\n",
       "      <th>Proximity</th>\n",
       "      <td>0.012957</td>\n",
       "      <td>1.000000</td>\n",
       "    </tr>\n",
       "  </tbody>\n",
       "</table>\n",
       "</div>"
      ],
      "text/plain": [
       "                  Auslaenderanteil  Proximity\n",
       "Auslaenderanteil          1.000000   0.012957\n",
       "Proximity                 0.012957   1.000000"
      ]
     },
     "execution_count": 582,
     "metadata": {},
     "output_type": "execute_result"
    }
   ],
   "source": [
    "# calc correlation between 'Auslaenderanteil' and 'Proximity'\n",
    "data[['Auslaenderanteil', 'Proximity']].corr()"
   ]
  },
  {
   "cell_type": "markdown",
   "metadata": {},
   "source": [
    "---"
   ]
  },
  {
   "cell_type": "markdown",
   "metadata": {},
   "source": [
    "### Daten speichern für Weiterverarbeitung speichern"
   ]
  },
  {
   "cell_type": "code",
   "execution_count": 583,
   "metadata": {},
   "outputs": [],
   "source": [
    "## export large dataset for further processing in R\n",
    "data.reset_index().to_feather(\"internal/data_large.feather\")"
   ]
  },
  {
   "cell_type": "code",
   "execution_count": 584,
   "metadata": {},
   "outputs": [],
   "source": [
    "## export large dataset for visualization\n",
    "data[~pd.isnull(data.Exp_Prox)].to_csv(\"output/jobs_detailed.csv\", index=False)"
   ]
  },
  {
   "cell_type": "markdown",
   "metadata": {},
   "source": [
    "---"
   ]
  },
  {
   "cell_type": "markdown",
   "metadata": {},
   "source": [
    "## Einkommen"
   ]
  },
  {
   "cell_type": "markdown",
   "metadata": {},
   "source": [
    "### Datensatz mit Einkommendaten auf Ebene der Berufsgruppen erstellen (`data_small`)"
   ]
  },
  {
   "cell_type": "code",
   "execution_count": 586,
   "metadata": {},
   "outputs": [],
   "source": [
    "# create new dataset with average income per Berufsgruppe. Calculated weighted mean values where necessary.\n",
    "data_small = salary.copy()\n",
    "for index, job in data_small.iterrows():\n",
    "    exposure_value = 0\n",
    "    proximity_value = 0\n",
    "    women_value = 0\n",
    "    total_sum = data.loc[(data.ISCO_kurz == job[\"ISCO\"]) & (data.Orig_Source == 1),\"Total (in T)\"].sum()\n",
    "    total_employed = data.loc[(data.ISCO_kurz == job[\"ISCO\"]),\"Total (in T)\"].sum()\n",
    "    for i, row in data.loc[(data.ISCO_kurz == job[\"ISCO\"]) & (data.Orig_Source == 1),:].iterrows():\n",
    "        exposure_value += row['Exposure'] * row['Total (in T)']\n",
    "        proximity_value += row['Proximity'] * row['Total (in T)']\n",
    "    for i, row in data.loc[(data.ISCO_kurz == job[\"ISCO\"]),:].iterrows():\n",
    "        women_value += (row['Frauenanteil'] * row['Total (in T)']) if not pd.isnull(row['Frauenanteil'] * row['Total (in T)']) else 0\n",
    "    exposure_value = exposure_value / total_sum\n",
    "    proximity_value = proximity_value / total_sum\n",
    "    women_value = women_value / total_employed\n",
    "    data_small.loc[index, 'Exposure'] = exposure_value\n",
    "    data_small.loc[index, 'Proximity'] = proximity_value\n",
    "    data_small.loc[index, 'n (in Tausend)'] = total_employed\n",
    "    data_small.loc[index, 'Frauenanteil'] = women_value\n",
    "data_small['Exp_Prox'] = (data_small['Exposure'] + data_small['Proximity']) / 2"
   ]
  },
  {
   "cell_type": "markdown",
   "metadata": {},
   "source": [
    "### Korrelationen berechnen und Verteilung der Werte anschauen "
   ]
  },
  {
   "cell_type": "code",
   "execution_count": 587,
   "metadata": {},
   "outputs": [
    {
     "data": {
      "text/html": [
       "<div>\n",
       "<style scoped>\n",
       "    .dataframe tbody tr th:only-of-type {\n",
       "        vertical-align: middle;\n",
       "    }\n",
       "\n",
       "    .dataframe tbody tr th {\n",
       "        vertical-align: top;\n",
       "    }\n",
       "\n",
       "    .dataframe thead th {\n",
       "        text-align: right;\n",
       "    }\n",
       "</style>\n",
       "<table border=\"1\" class=\"dataframe\">\n",
       "  <thead>\n",
       "    <tr style=\"text-align: right;\">\n",
       "      <th></th>\n",
       "      <th>Alle-Total</th>\n",
       "      <th>Exp_Prox</th>\n",
       "    </tr>\n",
       "  </thead>\n",
       "  <tbody>\n",
       "    <tr>\n",
       "      <th>Alle-Total</th>\n",
       "      <td>1.000000</td>\n",
       "      <td>-0.109219</td>\n",
       "    </tr>\n",
       "    <tr>\n",
       "      <th>Exp_Prox</th>\n",
       "      <td>-0.109219</td>\n",
       "      <td>1.000000</td>\n",
       "    </tr>\n",
       "  </tbody>\n",
       "</table>\n",
       "</div>"
      ],
      "text/plain": [
       "            Alle-Total  Exp_Prox\n",
       "Alle-Total    1.000000 -0.109219\n",
       "Exp_Prox     -0.109219  1.000000"
      ]
     },
     "execution_count": 587,
     "metadata": {},
     "output_type": "execute_result"
    }
   ],
   "source": [
    "# calc correlation between 'mean income' and 'Exp_Prox'\n",
    "data_small[['Alle-Total', 'Exp_Prox']].corr()"
   ]
  },
  {
   "cell_type": "code",
   "execution_count": 588,
   "metadata": {},
   "outputs": [
    {
     "data": {
      "text/html": [
       "<div>\n",
       "<style scoped>\n",
       "    .dataframe tbody tr th:only-of-type {\n",
       "        vertical-align: middle;\n",
       "    }\n",
       "\n",
       "    .dataframe tbody tr th {\n",
       "        vertical-align: top;\n",
       "    }\n",
       "\n",
       "    .dataframe thead th {\n",
       "        text-align: right;\n",
       "    }\n",
       "</style>\n",
       "<table border=\"1\" class=\"dataframe\">\n",
       "  <thead>\n",
       "    <tr style=\"text-align: right;\">\n",
       "      <th></th>\n",
       "      <th>Alle-Total</th>\n",
       "      <th>Exposure</th>\n",
       "    </tr>\n",
       "  </thead>\n",
       "  <tbody>\n",
       "    <tr>\n",
       "      <th>Alle-Total</th>\n",
       "      <td>1.000000</td>\n",
       "      <td>0.026344</td>\n",
       "    </tr>\n",
       "    <tr>\n",
       "      <th>Exposure</th>\n",
       "      <td>0.026344</td>\n",
       "      <td>1.000000</td>\n",
       "    </tr>\n",
       "  </tbody>\n",
       "</table>\n",
       "</div>"
      ],
      "text/plain": [
       "            Alle-Total  Exposure\n",
       "Alle-Total    1.000000  0.026344\n",
       "Exposure      0.026344  1.000000"
      ]
     },
     "execution_count": 588,
     "metadata": {},
     "output_type": "execute_result"
    }
   ],
   "source": [
    "# calc correlation between 'mean income' and 'Exposure'\n",
    "data_small[['Alle-Total', 'Exposure']].corr()"
   ]
  },
  {
   "cell_type": "code",
   "execution_count": 589,
   "metadata": {},
   "outputs": [
    {
     "data": {
      "text/plain": [
       "[<matplotlib.lines.Line2D at 0x12ab6c5d0>]"
      ]
     },
     "execution_count": 589,
     "metadata": {},
     "output_type": "execute_result"
    },
    {
     "data": {
      "image/png": "[encoded data removed]",
      "text/plain": [
       "<Figure size 1080x576 with 1 Axes>"
      ]
     },
     "metadata": {
      "needs_background": "light"
     },
     "output_type": "display_data"
    }
   ],
   "source": [
    "# Plot data\n",
    "plt.figure(figsize=(15,8))\n",
    "plt.plot(data_small['Alle-Total'], data_small['Exposure'], 'o')\n",
    "m, b = np.polyfit(data_small['Alle-Total'], data_small['Exposure'], 1)\n",
    "plt.plot(data_small['Alle-Total'], m*data_small['Alle-Total'] + b)"
   ]
  },
  {
   "cell_type": "code",
   "execution_count": 590,
   "metadata": {},
   "outputs": [
    {
     "data": {
      "text/html": [
       "<div>\n",
       "<style scoped>\n",
       "    .dataframe tbody tr th:only-of-type {\n",
       "        vertical-align: middle;\n",
       "    }\n",
       "\n",
       "    .dataframe tbody tr th {\n",
       "        vertical-align: top;\n",
       "    }\n",
       "\n",
       "    .dataframe thead th {\n",
       "        text-align: right;\n",
       "    }\n",
       "</style>\n",
       "<table border=\"1\" class=\"dataframe\">\n",
       "  <thead>\n",
       "    <tr style=\"text-align: right;\">\n",
       "      <th></th>\n",
       "      <th>Alle-Total</th>\n",
       "      <th>Proximity</th>\n",
       "    </tr>\n",
       "  </thead>\n",
       "  <tbody>\n",
       "    <tr>\n",
       "      <th>Alle-Total</th>\n",
       "      <td>1.000000</td>\n",
       "      <td>-0.307507</td>\n",
       "    </tr>\n",
       "    <tr>\n",
       "      <th>Proximity</th>\n",
       "      <td>-0.307507</td>\n",
       "      <td>1.000000</td>\n",
       "    </tr>\n",
       "  </tbody>\n",
       "</table>\n",
       "</div>"
      ],
      "text/plain": [
       "            Alle-Total  Proximity\n",
       "Alle-Total    1.000000  -0.307507\n",
       "Proximity    -0.307507   1.000000"
      ]
     },
     "execution_count": 590,
     "metadata": {},
     "output_type": "execute_result"
    }
   ],
   "source": [
    "# calc correlation between 'mean income' and 'Proximity'\n",
    "data_small[['Alle-Total', 'Proximity']].corr()"
   ]
  },
  {
   "cell_type": "code",
   "execution_count": 591,
   "metadata": {},
   "outputs": [
    {
     "data": {
      "text/plain": [
       "[<matplotlib.lines.Line2D at 0x12ab74890>]"
      ]
     },
     "execution_count": 591,
     "metadata": {},
     "output_type": "execute_result"
    },
    {
     "data": {
      "image/png": "[encoded data removed]",
      "text/plain": [
       "<Figure size 1080x576 with 1 Axes>"
      ]
     },
     "metadata": {
      "needs_background": "light"
     },
     "output_type": "display_data"
    }
   ],
   "source": [
    "# plot data\n",
    "plt.figure(figsize=(15,8))\n",
    "plt.plot(data_small['Alle-Total'], data_small['Proximity'], 'o')\n",
    "m, b = np.polyfit(data_small['Alle-Total'], data_small['Proximity'], 1)\n",
    "plt.plot(data_small['Alle-Total'], m*data_small['Alle-Total'] + b)"
   ]
  },
  {
   "cell_type": "markdown",
   "metadata": {},
   "source": [
    "---"
   ]
  },
  {
   "cell_type": "markdown",
   "metadata": {},
   "source": [
    "## Daten speichern für Weiterverarbeitung speichern"
   ]
  },
  {
   "cell_type": "code",
   "execution_count": 592,
   "metadata": {},
   "outputs": [],
   "source": [
    "## export data for further processing in R\n",
    "data_small[['ISCO', 'Beruf', 'Alle-Total', 'Exposure', 'Proximity', 'Exp_Prox', 'n (in Tausend)']].reset_index().to_feather(\"internal/data_small.feather\")"
   ]
  },
  {
   "cell_type": "code",
   "execution_count": 593,
   "metadata": {},
   "outputs": [],
   "source": [
    "## export data for visualization\n",
    "data_small[['ISCO', 'Beruf', 'Alle-Total', 'Exposure', 'Proximity', 'Exp_Prox', 'Frauenanteil', 'n (in Tausend)']].to_csv(\"output/jobs_groups.csv\", index=False)"
   ]
  },
  {
   "cell_type": "markdown",
   "metadata": {},
   "source": [
    "---"
   ]
  },
  {
   "cell_type": "markdown",
   "metadata": {},
   "source": [
    "## Durchschnittliches Ansteckungsrisiko pro Geschlecht berechnen"
   ]
  },
  {
   "cell_type": "code",
   "execution_count": 625,
   "metadata": {},
   "outputs": [
    {
     "name": "stdout",
     "output_type": "stream",
     "text": [
      "Ø-Ansteckungsrisiko Frauen: 47.805757034614324\n",
      "Ø-Ansteckungsrisiko Männer: 37.30561107346061\n",
      "Durschnittliches Ansteckingsrisiko liegt bei Frauen um 28.15% höher\n"
     ]
    }
   ],
   "source": [
    "## calculate average 'risk' per gender across all jobs\n",
    "n_risk = []\n",
    "\n",
    "# calculate number of men and women per job and assign risk\n",
    "for i, row in data[~pd.isnull(data.Exp_Prox) & (~pd.isnull(data.Frauenanteil))].iterrows():\n",
    "    n_women = row['Total (in T)'] / 100 * row['Frauenanteil']\n",
    "    n_men = row['Total (in T)'] / 100 * (100 - row['Frauenanteil'])\n",
    "    risk = row['Exp_Prox']\n",
    "    n_risk.append([n_women, n_men, risk])\n",
    "n_risk = pd.DataFrame(n_risk, columns=[\"n_women\", \"n_men\", \"risk\"])\n",
    "\n",
    "# calculate weighted average of risk per gender\n",
    "risk_women = 0\n",
    "risk_men = 0\n",
    "for i, row in n_risk.iterrows():\n",
    "    risk_women += row['n_women'] * row['risk']\n",
    "    risk_men += row['n_men'] * row['risk']\n",
    "risk_women = risk_women / n_risk.n_women.sum()\n",
    "risk_men = risk_men / n_risk.n_men.sum()\n",
    "\n",
    "print(f'Ø-Ansteckungsrisiko Frauen: {risk_women}')\n",
    "print(f'Ø-Ansteckungsrisiko Männer: {risk_men}')\n",
    "print(f'Durschnittliches Ansteckingsrisiko liegt bei Frauen um {((100 / risk_men * risk_women)-100):.2f}% höher')"
   ]
  },
  {
   "cell_type": "code",
   "execution_count": null,
   "metadata": {},
   "outputs": [],
   "source": []
  }
 ],
 "metadata": {
  "kernelspec": {
   "display_name": "Python 3",
   "language": "python",
   "name": "python3"
  },
  "language_info": {
   "codemirror_mode": {
    "name": "ipython",
    "version": 3
   },
   "file_extension": ".py",
   "mimetype": "text/x-python",
   "name": "python",
   "nbconvert_exporter": "python",
   "pygments_lexer": "ipython3",
   "version": "3.7.6"
  }
 },
 "nbformat": 4,
 "nbformat_minor": 4
}
